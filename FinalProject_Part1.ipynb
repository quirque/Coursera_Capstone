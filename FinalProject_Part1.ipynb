{
 "cells": [
  {
   "cell_type": "markdown",
   "metadata": {},
   "source": [
    "# Applied Data Science Capstone &ndash; Final Project"
   ]
  },
  {
   "cell_type": "markdown",
   "metadata": {},
   "source": [
    "## Preface\n",
    "\n",
    "This notebook is being provided to fulfill the requirements of the final project for the Coursera **Applied Data Science Capstone** course.\n"
   ]
  },
  {
   "cell_type": "markdown",
   "metadata": {},
   "source": [
    "<a id='item1'></a>\n",
    "# Introduction / Business Problem"
   ]
  },
  {
   "cell_type": "markdown",
   "metadata": {},
   "source": [
    "Before we get into the data, we begin with a little background on the problem\n",
    "being faced, and how we aim to solve it."
   ]
  },
  {
   "cell_type": "markdown",
   "metadata": {},
   "source": [
    "## Background"
   ]
  },
  {
   "cell_type": "markdown",
   "metadata": {},
   "source": [
    "Professional life begins for many in a big city, which offers myriad job opportunities as well as\n",
    "numerous social activities.\n",
    "After several years of living in the big city, many people tire of the fast pace and limited breathing room,\n",
    "and opt to move to the suburbs. Sometimes this move is precipitated by changes in family, such as having young children.\n",
    "\n",
    "A popular misconception is that the suburbs are completely opposite of \n",
    "the big city, consisting of small towns with large houses and no social amenities. But, in many areas this\n",
    "is not true &mdash; the suburbs contain many larger towns and smaller cities that offer a great combination of\n",
    "city life and non-city life.\n",
    "\n",
    "New York City is not only the paragon of big cities, but its surroundings provide great\n",
    "examples of suburban cities and towns. The tri-state area of New York, New Jersey, and Connecticut provide\n",
    "numerous areas in which to live that echo many of the amenities that New York City offers. \n",
    "Many people live in these areas outside of the city and continue to work in New York City, commuting\n",
    "every day to work in the city.\n",
    "And if a person living in one of those towns just has to have something that can only be found in NYC,\n",
    "then it is a short car or train ride away.\n"
   ]
  },
  {
   "cell_type": "markdown",
   "metadata": {},
   "source": [
    "## Stamford, CT"
   ]
  },
  {
   "cell_type": "markdown",
   "metadata": {},
   "source": [
    "The city of Stamford is located in the state of Connecticut, and is just 45 minutes away from New York City by train.\n",
    "Stamford is a small city, with a population of between 120,000 and 130,000 people.\n",
    "Stamford is also a varied city, containing a sparsely-populated northern district, a metropolitan downtown area,\n",
    "and numerous residential areas. The downtown area can feel much like Manhattan, with its numerous\n",
    "corporate offices, especially those from the financial realm."
   ]
  },
  {
   "cell_type": "markdown",
   "metadata": {},
   "source": [
    "## Problem"
   ]
  },
  {
   "cell_type": "markdown",
   "metadata": {},
   "source": [
    "Since Stamford is such a varied city, it can be difficult for somebody moving from another area to\n",
    "understand the neighborhoods and what they each offer. Stamford, like most suburban cities, is not so\n",
    "much of a destination city, so it is unlikely that most people moving into it will have had much\n",
    "experience with its neighborhoods and amenities.\n",
    "\n",
    "The problem that is to be solved for many people is where within Stamford, Connecticut to move to."
   ]
  },
  {
   "cell_type": "markdown",
   "metadata": {},
   "source": [
    "## Audience"
   ]
  },
  {
   "cell_type": "markdown",
   "metadata": {},
   "source": [
    "The audience for this report are people who have a vested interest in understanding the neighborhoods\n",
    "in Stamford, CT. Many of these people will be involved in moving to Stamford and needing to find housing.\n",
    "Other members of the audience may want to understand the neighborhoods to make business decisions.\n",
    "\n",
    "1. **People relocating to Stamford**  \n",
    "People who are relocating to Stamford care where they want to live &mdash; they want to have amenities nearby\n",
    "that they are interested in, whether they be social, shopping, or educational.\n",
    "2. **Real estate agents**  \n",
    "Real estate agents need to know what each neighborhood offers in order to find buyers the best home\n",
    "when they are looking, and to provide sellers with a best sale price.\n",
    "3. **Corporations investigating moving to Stamford**  \n",
    "Companies moving into Stamford need to know about neighborhoods both for their prospective sight,\n",
    "as well as for the good of their employees.\n",
    "4. **Businesses investigating opening a store in Stamford**  \n",
    "Businesses that might be looking to open a physical store in Stamford need to know what other\n",
    "types of businesses are in prospective neighborhoods, as they want to be able to drive shoppers/clients\n",
    "to their new storefront, but without having an overabundance of competition."
   ]
  },
  {
   "cell_type": "markdown",
   "metadata": {},
   "source": [
    "## Goal"
   ]
  },
  {
   "cell_type": "markdown",
   "metadata": {},
   "source": [
    "The goal of this project is to investigate the  neighborhoods in Stamford, Connecticut.\n",
    "The first step will be to determine where the various neighborhoods are located.\n",
    "The second step will be to understand the characteristics of each neighborhood."
   ]
  }
 ],
 "metadata": {
  "kernelspec": {
   "display_name": "Python [conda env:datasci]",
   "language": "python",
   "name": "conda-env-datasci-py"
  },
  "language_info": {
   "codemirror_mode": {
    "name": "ipython",
    "version": 3
   },
   "file_extension": ".py",
   "mimetype": "text/x-python",
   "name": "python",
   "nbconvert_exporter": "python",
   "pygments_lexer": "ipython3",
   "version": "3.7.7"
  },
  "widgets": {
   "state": {},
   "version": "1.1.2"
  }
 },
 "nbformat": 4,
 "nbformat_minor": 2
}
